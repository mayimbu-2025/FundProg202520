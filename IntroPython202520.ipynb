{
  "nbformat": 4,
  "nbformat_minor": 0,
  "metadata": {
    "colab": {
      "provenance": [],
      "authorship_tag": "ABX9TyMpabXOBO7OZAFG+iscSWR3",
      "include_colab_link": true
    },
    "kernelspec": {
      "name": "python3",
      "display_name": "Python 3"
    },
    "language_info": {
      "name": "python"
    }
  },
  "cells": [
    {
      "cell_type": "markdown",
      "metadata": {
        "id": "view-in-github",
        "colab_type": "text"
      },
      "source": [
        "<a href=\"https://colab.research.google.com/github/mayimbu-2025/FundProg202520/blob/main/IntroPython202520.ipynb\" target=\"_parent\"><img src=\"https://colab.research.google.com/assets/colab-badge.svg\" alt=\"Open In Colab\"/></a>"
      ]
    },
    {
      "cell_type": "markdown",
      "source": [
        "# introduccion a Python\n",
        "\n",
        "## Fundamentos de programacion\n",
        "\n",
        "### Universidad Pontificia Bolivariana-Seccional Monteria\n",
        "\n",
        "\n",
        "**Fecha:** 29 de agosto de 2025\n",
        "\n",
        "**Presentado por:** _Miguel Ortiz_\n",
        "\n",
        "En la siguiente actividad se explorarán los conceptos básicdos de Python.\n"
      ],
      "metadata": {
        "id": "nrmb_2RUZKgR"
      }
    },
    {
      "cell_type": "code",
      "source": [
        "#comentarios\n",
        "\n",
        "#Introducción a python\n",
        "# Los comentarios se crean con el # y se utilizan para:\n",
        "#- Dar contexto\n",
        "#- Explicar código\n",
        "#. Ignorar código (pruebas)"
      ],
      "metadata": {
        "id": "IUFkngF9ZFFR"
      },
      "execution_count": null,
      "outputs": []
    },
    {
      "cell_type": "code",
      "source": [
        "# Print\n",
        "# La funcion print se utiliza para imprimir un mensaje en consola.\n",
        "\n",
        "print(\"Hola mundo!\")"
      ],
      "metadata": {
        "colab": {
          "base_uri": "https://localhost:8080/"
        },
        "id": "9KtHFveibBMc",
        "outputId": "5a757119-e2d0-46ae-cd17-d7efeaefedf1"
      },
      "execution_count": null,
      "outputs": [
        {
          "output_type": "stream",
          "name": "stdout",
          "text": [
            "Hola mundo!\n"
          ]
        }
      ]
    },
    {
      "cell_type": "code",
      "source": [
        " # Variables\n",
        "\n",
        " # Se utilizan para \"almacenar\" datos en memoria. Es una referencia a la dirección en memoria donde se almacenan datos\n",
        "\n",
        " name= \"daniel\"\n",
        " age= 17\n",
        " height= 1.83\n",
        " city= \"Monteria\"\n",
        " is_sleeping= False\n",
        "\n",
        " print(name,age,height,city,is_sleeping)"
      ],
      "metadata": {
        "colab": {
          "base_uri": "https://localhost:8080/"
        },
        "id": "tScM2ig5dtLT",
        "outputId": "a555f1be-4464-4968-9d38-733c0c89d35d"
      },
      "execution_count": null,
      "outputs": [
        {
          "output_type": "stream",
          "name": "stdout",
          "text": [
            "daniel 17 1.83 Monteria False\n"
          ]
        }
      ]
    },
    {
      "cell_type": "code",
      "source": [
        "#calculos\n",
        "\n",
        "a = 5\n",
        "b = 2.3\n",
        "c = a + b\n",
        "d = a - b\n",
        "e = a * b\n",
        "f = a / b\n",
        "g = a % b # modulo: residuo de la division entera de a entre b\n",
        "h = a ** b # potencia: a elevado a la b\n",
        "print(c)\n",
        "print(d)\n",
        "print(e)\n",
        "print(f)\n",
        "print(g)\n",
        "print(h)"
      ],
      "metadata": {
        "colab": {
          "base_uri": "https://localhost:8080/"
        },
        "id": "E0QNWNIzehxq",
        "outputId": "56e96f7e-409c-42bb-d88e-a7a1d83fb1dd"
      },
      "execution_count": null,
      "outputs": [
        {
          "output_type": "stream",
          "name": "stdout",
          "text": [
            "7.3\n",
            "2.7\n",
            "11.5\n",
            "2.173913043478261\n",
            "0.40000000000000036\n",
            "40.51641491731905\n"
          ]
        }
      ]
    },
    {
      "cell_type": "code",
      "source": [
        "# cambio de valores\n",
        "\n",
        "a = 5\n",
        "print(a)\n",
        "a = 10\n",
        "print(a)"
      ],
      "metadata": {
        "colab": {
          "base_uri": "https://localhost:8080/"
        },
        "id": "J5Vm4TwegeGa",
        "outputId": "c8586606-6a8d-473a-bb2d-ad3f6e86f34f"
      },
      "execution_count": null,
      "outputs": [
        {
          "output_type": "stream",
          "name": "stdout",
          "text": [
            "5\n",
            "10\n"
          ]
        }
      ]
    },
    {
      "cell_type": "code",
      "source": [
        "# Concatenacion\n",
        "\n",
        "# Concatenar consiste en unir texto\n",
        "\n",
        "firstname = \"Daniel\"\n",
        "lastname = \"Pedroza\"\n",
        "fullname = firstname + \" \" + lastname\n",
        "print(fullname)"
      ],
      "metadata": {
        "colab": {
          "base_uri": "https://localhost:8080/"
        },
        "id": "254NbkW5igv7",
        "outputId": "7710ea8c-d004-48e4-dcfe-107a1f41ebb1"
      },
      "execution_count": null,
      "outputs": [
        {
          "output_type": "stream",
          "name": "stdout",
          "text": [
            "Daniel Pedroza\n"
          ]
        }
      ]
    },
    {
      "cell_type": "code",
      "source": [
        "# Incrementadores (+=,-=,*=...)\n",
        "\n",
        "time = 0\n",
        "print(time)\n",
        "time += 1\n",
        "print(time)\n",
        "time -= 2\n",
        "print(time)\n",
        "time *= 3\n",
        "print(time)\n",
        "time /= 4\n",
        "print(time)"
      ],
      "metadata": {
        "colab": {
          "base_uri": "https://localhost:8080/"
        },
        "id": "HIjGedAMiyK6",
        "outputId": "5053fce6-4e85-4d96-c5bb-190f9facbc49"
      },
      "execution_count": null,
      "outputs": [
        {
          "output_type": "stream",
          "name": "stdout",
          "text": [
            "0\n",
            "1\n",
            "-1\n",
            "-3\n",
            "-0.75\n"
          ]
        }
      ]
    },
    {
      "cell_type": "code",
      "source": [
        "# Varias lines de texto\n",
        "\n",
        "song = \"\"\"\n",
        "TE AMO MELANIE PANTOJA MORENO\n",
        "Pueden haber más bellas que tú\n",
        "Habrá otra con más poder que tú\n",
        "Pueden existir en este mundo\n",
        "Pero eres la reina\n",
        "Las hay con coronas de cristal\n",
        "Y tienen todas las betas del mar\n",
        "Tal vez, desde mi corazón\n",
        "Tú eres la reina\n",
        "\"\"\"\n",
        "\n",
        "print(song)"
      ],
      "metadata": {
        "colab": {
          "base_uri": "https://localhost:8080/"
        },
        "id": "9By5pypXkJWK",
        "outputId": "b32d7c35-ee3e-47f7-ae8d-85151be28c56"
      },
      "execution_count": null,
      "outputs": [
        {
          "output_type": "stream",
          "name": "stdout",
          "text": [
            "\n",
            "TE AMO MELANIE PANTOJA MORENO\n",
            "Pueden haber más bellas que tú\n",
            "Habrá otra con más poder que tú\n",
            "Pueden existir en este mundo\n",
            "Pero eres la reina\n",
            "Las hay con coronas de cristal\n",
            "Y tienen todas las betas del mar\n",
            "Tal vez, desde mi corazón\n",
            "Tú eres la reina\n",
            "\n"
          ]
        }
      ]
    },
    {
      "cell_type": "code",
      "source": [
        "# Inputs\n",
        "\n",
        "# Se utilizaran para gestionar entradas de usuario\n",
        "\n",
        "name = input (\"Hola.¿Cual es tu nombre?\")\n",
        "print(\"Hola\",name,\"mucho gusto\")"
      ],
      "metadata": {
        "colab": {
          "base_uri": "https://localhost:8080/"
        },
        "id": "p8cP-ug9mLjx",
        "outputId": "e2d7dba0-4a86-4c3b-8e5a-6d8490c38ec8"
      },
      "execution_count": null,
      "outputs": [
        {
          "output_type": "stream",
          "name": "stdout",
          "text": [
            "Hola.¿Cual es tu nombre?Daniel\n",
            "Hola Daniel mucho gusto\n"
          ]
        }
      ]
    },
    {
      "cell_type": "code",
      "source": [
        "# Programa que sume el total de materias inscritas por 3 estudiantes y calcule su promedio\n",
        "\n",
        "\n",
        "\n",
        "\n",
        "\n"
      ],
      "metadata": {
        "id": "xLvlOKk1nHiQ"
      },
      "execution_count": null,
      "outputs": []
    }
  ]
}